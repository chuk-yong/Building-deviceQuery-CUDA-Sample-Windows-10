{
  "nbformat": 4,
  "nbformat_minor": 0,
  "metadata": {
    "colab": {
      "name": "1-3_Arrays-Max-Subarray-Sum.ipynb",
      "provenance": [],
      "authorship_tag": "ABX9TyNw5WOtVGGmGefuQIwyHea7",
      "include_colab_link": true
    },
    "kernelspec": {
      "name": "python3",
      "display_name": "Python 3"
    },
    "language_info": {
      "name": "python"
    }
  },
  "cells": [
    {
      "cell_type": "markdown",
      "metadata": {
        "id": "view-in-github",
        "colab_type": "text"
      },
      "source": [
        "<a href=\"https://colab.research.google.com/github/chuk-yong/Building-deviceQuery-CUDA-Sample-Windows-10/blob/main/1_3_Arrays_Max_Subarray_Sum.ipynb\" target=\"_parent\"><img src=\"https://colab.research.google.com/assets/colab-badge.svg\" alt=\"Open In Colab\"/></a>"
      ]
    },
    {
      "cell_type": "markdown",
      "source": [
        "## Calculate maximun subarray sum\n",
        "Given an array of numbers, find the maimum sum of any contiguous subarray.\n",
        "Given [34, -50, 42, 14, -5, 86], the max sum would be 137 with elements [42, 14, -5, 86]\n",
        "Given [-5, -1, -8, -9], the max sum would be 0 since we would choose not to take any elements.\n",
        "Also, what if the elements can wrap around? \n",
        "Given [8, -1, 3, 4] return 15 with elements [3,4,8]"
      ],
      "metadata": {
        "id": "sYQs4D-5jowr"
      }
    },
    {
      "cell_type": "markdown",
      "source": [
        "First try would be by brute force.  Iterate over every contiguous subarray."
      ],
      "metadata": {
        "id": "Lis3aZLpkWK-"
      }
    },
    {
      "cell_type": "code",
      "source": [
        "def max_subarray(arr):\n",
        "  max_seen, left, right = 0, 0, 0\n",
        "  for i in range(len(arr)):\n",
        "    for j in range(i+1, len(arr)+1):\n",
        "      if sum(arr[i:j]) > max_seen:\n",
        "        left = i\n",
        "        right = j\n",
        "        max_seen = sum(arr[i:j])\n",
        "  return max_seen, left, right"
      ],
      "metadata": {
        "id": "j5tCscNpkgdV"
      },
      "execution_count": 43,
      "outputs": []
    },
    {
      "cell_type": "markdown",
      "source": [
        "Is there a mistake in the book?\n",
        "Because i should go through all the elements in the array, including the last.  So it should be range(len(array)).\n",
        "j should be starting at i+1 and ends at len(array)+1.\n",
        "Else the first slice of the array will always be array[i,i] which returns empty. \n",
        "Also, len(array) is 6.  range(len(array)) would go to 5, instead of 6.  We would never be able to include the last element when doing the slicing.\n",
        "Example j would always ends 5.  But we want to slice up to and including 5.  So it should be array[i, len(array)+1]"
      ],
      "metadata": {
        "id": "_h8LCjjXvGfN"
      }
    },
    {
      "cell_type": "code",
      "source": [
        "arr = [34, -50, 42, 14, -5, 86]\n",
        "max, left, right = max_subarray(arr)\n",
        "print(\"Max is = \", max)\n",
        "print(array[left:right])\n",
        "#print(\"Max array is : \", array[left, right])\n",
        "#print(\"Max array sum is: \", max)"
      ],
      "metadata": {
        "colab": {
          "base_uri": "https://localhost:8080/"
        },
        "id": "7ZShqUTNl3EK",
        "outputId": "8268a4cc-6f64-414d-9720-94de32a107fd"
      },
      "execution_count": 44,
      "outputs": [
        {
          "output_type": "stream",
          "name": "stdout",
          "text": [
            "Max is =  137\n",
            "[42, 14, -5, 86]\n"
          ]
        }
      ]
    },
    {
      "cell_type": "code",
      "source": [
        "# Book solution\n",
        "def max_subarray_sum(arr):\n",
        "  current_max = 0\n",
        "  for i in range(len(arr)-1):\n",
        "    for j in range(i, len(arr)):\n",
        "      current_max = max(current_max, sum(arr[i:j]))\n",
        "  return current_max"
      ],
      "metadata": {
        "id": "_OamiVlsoLg-"
      },
      "execution_count": 16,
      "outputs": []
    },
    {
      "cell_type": "code",
      "source": [
        "\n",
        "m = max_subarray_sum(arr)\n",
        "print(m)"
      ],
      "metadata": {
        "colab": {
          "base_uri": "https://localhost:8080/",
          "height": 305
        },
        "id": "xrkOgXTyooBi",
        "outputId": "23d4ed25-211c-47a0-bf81-952a15e02ff3"
      },
      "execution_count": 45,
      "outputs": [
        {
          "output_type": "error",
          "ename": "TypeError",
          "evalue": "ignored",
          "traceback": [
            "\u001b[0;31m---------------------------------------------------------------------------\u001b[0m",
            "\u001b[0;31mTypeError\u001b[0m                                 Traceback (most recent call last)",
            "\u001b[0;32m<ipython-input-45-82d3b18091d3>\u001b[0m in \u001b[0;36m<module>\u001b[0;34m()\u001b[0m\n\u001b[1;32m      1\u001b[0m \u001b[0;34m\u001b[0m\u001b[0m\n\u001b[0;32m----> 2\u001b[0;31m \u001b[0mm\u001b[0m \u001b[0;34m=\u001b[0m \u001b[0mmax_subarray_sum\u001b[0m\u001b[0;34m(\u001b[0m\u001b[0marr\u001b[0m\u001b[0;34m)\u001b[0m\u001b[0;34m\u001b[0m\u001b[0;34m\u001b[0m\u001b[0m\n\u001b[0m\u001b[1;32m      3\u001b[0m \u001b[0mprint\u001b[0m\u001b[0;34m(\u001b[0m\u001b[0mm\u001b[0m\u001b[0;34m)\u001b[0m\u001b[0;34m\u001b[0m\u001b[0;34m\u001b[0m\u001b[0m\n",
            "\u001b[0;32m<ipython-input-16-06183a911176>\u001b[0m in \u001b[0;36mmax_subarray_sum\u001b[0;34m(arr)\u001b[0m\n\u001b[1;32m      4\u001b[0m   \u001b[0;32mfor\u001b[0m \u001b[0mi\u001b[0m \u001b[0;32min\u001b[0m \u001b[0mrange\u001b[0m\u001b[0;34m(\u001b[0m\u001b[0mlen\u001b[0m\u001b[0;34m(\u001b[0m\u001b[0marr\u001b[0m\u001b[0;34m)\u001b[0m\u001b[0;34m-\u001b[0m\u001b[0;36m1\u001b[0m\u001b[0;34m)\u001b[0m\u001b[0;34m:\u001b[0m\u001b[0;34m\u001b[0m\u001b[0;34m\u001b[0m\u001b[0m\n\u001b[1;32m      5\u001b[0m     \u001b[0;32mfor\u001b[0m \u001b[0mj\u001b[0m \u001b[0;32min\u001b[0m \u001b[0mrange\u001b[0m\u001b[0;34m(\u001b[0m\u001b[0mi\u001b[0m\u001b[0;34m,\u001b[0m \u001b[0mlen\u001b[0m\u001b[0;34m(\u001b[0m\u001b[0marr\u001b[0m\u001b[0;34m)\u001b[0m\u001b[0;34m)\u001b[0m\u001b[0;34m:\u001b[0m\u001b[0;34m\u001b[0m\u001b[0;34m\u001b[0m\u001b[0m\n\u001b[0;32m----> 6\u001b[0;31m       \u001b[0mcurrent_max\u001b[0m \u001b[0;34m=\u001b[0m \u001b[0mmax\u001b[0m\u001b[0;34m(\u001b[0m\u001b[0mcurrent_max\u001b[0m\u001b[0;34m,\u001b[0m \u001b[0msum\u001b[0m\u001b[0;34m(\u001b[0m\u001b[0marr\u001b[0m\u001b[0;34m[\u001b[0m\u001b[0mi\u001b[0m\u001b[0;34m:\u001b[0m\u001b[0mj\u001b[0m\u001b[0;34m]\u001b[0m\u001b[0;34m)\u001b[0m\u001b[0;34m)\u001b[0m\u001b[0;34m\u001b[0m\u001b[0;34m\u001b[0m\u001b[0m\n\u001b[0m\u001b[1;32m      7\u001b[0m   \u001b[0;32mreturn\u001b[0m \u001b[0mcurrent_max\u001b[0m\u001b[0;34m\u001b[0m\u001b[0;34m\u001b[0m\u001b[0m\n",
            "\u001b[0;31mTypeError\u001b[0m: 'int' object is not callable"
          ]
        }
      ]
    },
    {
      "cell_type": "markdown",
      "source": [
        "## Using Kadane's formula\n",
        "Here's a good explanation: https://www.geeksforgeeks.org/largest-sum-contiguous-subarray/\n",
        "\n",
        "The goal is to using just one loop so that it can complete in O(n) time rather than O(n^3) \n",
        "(why n^3?? should it not be n^2 since we are using 2 loops?)\n",
        "\n",
        "a = [0, 1, 3, -5, 8, 10, -15, 20, 35]\n",
        "max_end_here keep tracks of the maximum continuos maximum currently.\n",
        "max_so_far keep tracks of the absolute maximum so far\n",
        "\n",
        "a[0] = 0\n",
        "\n",
        "a[1] = 1, max_end updated to 1, max_so_far updated to 1\n",
        "\n",
        "a[2] = 3, 3+max_end = 4. max_end_here updated to 4, max_so_far updated to 4\n",
        "\n",
        "a[3] = -5, -5+ max_end_here = -1, reset max_end_here to 0\n",
        "\n",
        "a[4] = 8, update both since max_end_here was 0 and  max_so_far is 4\n",
        "\n",
        "a[5] = 10, update both to 18\n",
        "\n",
        "a[6] = -15, max_end_here is now 3 and max_so_far is 18\n",
        "\n",
        "a[7] = 20, max_end_here is now 23, update max_so_far to 23\n",
        "\n",
        "a[8] = 35, max_end_here is now 58, update max_so_far to 58 \n",
        "\n",
        "\n"
      ],
      "metadata": {
        "id": "HhS5pZoW0wB0"
      }
    },
    {
      "cell_type": "markdown",
      "source": [
        "## Int error\n",
        "Somehow I kept getting this error in colab\n",
        "Running it in Vscode in my local machine has no problem"
      ],
      "metadata": {
        "id": "gUUWqe53Dbns"
      }
    },
    {
      "cell_type": "code",
      "source": [
        "def kadane(arr):\n",
        "  max_end_here = max_so_far = 0\n",
        "  for a in arr:\n",
        "    max_end_here = max_end_here + a\n",
        "    max_so_far = max(max_so_far, max_end_here)\n",
        "    if max_end_here < 0:\n",
        "      max_end_here =0\n",
        "  return max_end_here"
      ],
      "metadata": {
        "id": "TaAht28C1NvE"
      },
      "execution_count": 48,
      "outputs": []
    },
    {
      "cell_type": "code",
      "source": [
        "print(kadane(arr))"
      ],
      "metadata": {
        "colab": {
          "base_uri": "https://localhost:8080/",
          "height": 287
        },
        "id": "eW5HiqLm8NXO",
        "outputId": "c8dbb009-f00f-4147-dd28-faa7638f3c4e"
      },
      "execution_count": 49,
      "outputs": [
        {
          "output_type": "error",
          "ename": "TypeError",
          "evalue": "ignored",
          "traceback": [
            "\u001b[0;31m---------------------------------------------------------------------------\u001b[0m",
            "\u001b[0;31mTypeError\u001b[0m                                 Traceback (most recent call last)",
            "\u001b[0;32m<ipython-input-49-d7de2ad98a0e>\u001b[0m in \u001b[0;36m<module>\u001b[0;34m()\u001b[0m\n\u001b[0;32m----> 1\u001b[0;31m \u001b[0mprint\u001b[0m\u001b[0;34m(\u001b[0m\u001b[0mkadane\u001b[0m\u001b[0;34m(\u001b[0m\u001b[0marr\u001b[0m\u001b[0;34m)\u001b[0m\u001b[0;34m)\u001b[0m\u001b[0;34m\u001b[0m\u001b[0;34m\u001b[0m\u001b[0m\n\u001b[0m",
            "\u001b[0;32m<ipython-input-48-9cec7f74d560>\u001b[0m in \u001b[0;36mkadane\u001b[0;34m(arr)\u001b[0m\n\u001b[1;32m      3\u001b[0m   \u001b[0;32mfor\u001b[0m \u001b[0ma\u001b[0m \u001b[0;32min\u001b[0m \u001b[0marr\u001b[0m\u001b[0;34m:\u001b[0m\u001b[0;34m\u001b[0m\u001b[0;34m\u001b[0m\u001b[0m\n\u001b[1;32m      4\u001b[0m     \u001b[0mmax_end_here\u001b[0m \u001b[0;34m=\u001b[0m \u001b[0mmax_end_here\u001b[0m \u001b[0;34m+\u001b[0m \u001b[0ma\u001b[0m\u001b[0;34m\u001b[0m\u001b[0;34m\u001b[0m\u001b[0m\n\u001b[0;32m----> 5\u001b[0;31m     \u001b[0mmax_so_far\u001b[0m \u001b[0;34m=\u001b[0m \u001b[0mmax\u001b[0m\u001b[0;34m(\u001b[0m\u001b[0mmax_so_far\u001b[0m\u001b[0;34m,\u001b[0m \u001b[0mmax_end_here\u001b[0m\u001b[0;34m)\u001b[0m\u001b[0;34m\u001b[0m\u001b[0;34m\u001b[0m\u001b[0m\n\u001b[0m\u001b[1;32m      6\u001b[0m     \u001b[0;32mif\u001b[0m \u001b[0mmax_end_here\u001b[0m \u001b[0;34m<\u001b[0m \u001b[0;36m0\u001b[0m\u001b[0;34m:\u001b[0m\u001b[0;34m\u001b[0m\u001b[0;34m\u001b[0m\u001b[0m\n\u001b[1;32m      7\u001b[0m       \u001b[0mmax_end_here\u001b[0m \u001b[0;34m=\u001b[0m\u001b[0;36m0\u001b[0m\u001b[0;34m\u001b[0m\u001b[0;34m\u001b[0m\u001b[0m\n",
            "\u001b[0;31mTypeError\u001b[0m: 'int' object is not callable"
          ]
        }
      ]
    },
    {
      "cell_type": "code",
      "source": [
        "# Book solution using Kadane's algorithm\n",
        "def book_kadane(arr):\n",
        "  max_ending_here = max_so_far = 0\n",
        "  for x in arr:\n",
        "    max_ending_here = max(x, max_ending_here + x)\n",
        "    max_so_far = max(max_so_far, max_ending_here)\n",
        "  return max_so_far"
      ],
      "metadata": {
        "id": "PfSAiRHmyjaA"
      },
      "execution_count": 32,
      "outputs": []
    },
    {
      "cell_type": "code",
      "source": [
        "print(book_kadane(arr))"
      ],
      "metadata": {
        "colab": {
          "base_uri": "https://localhost:8080/",
          "height": 287
        },
        "id": "wuf-YOmQzG1w",
        "outputId": "28f924e1-1194-471c-e8a2-ec59278ec566"
      },
      "execution_count": 35,
      "outputs": [
        {
          "output_type": "error",
          "ename": "TypeError",
          "evalue": "ignored",
          "traceback": [
            "\u001b[0;31m---------------------------------------------------------------------------\u001b[0m",
            "\u001b[0;31mTypeError\u001b[0m                                 Traceback (most recent call last)",
            "\u001b[0;32m<ipython-input-35-9e3c81812428>\u001b[0m in \u001b[0;36m<module>\u001b[0;34m()\u001b[0m\n\u001b[0;32m----> 1\u001b[0;31m \u001b[0mprint\u001b[0m\u001b[0;34m(\u001b[0m\u001b[0mbook_kadane\u001b[0m\u001b[0;34m(\u001b[0m\u001b[0marr\u001b[0m\u001b[0;34m)\u001b[0m\u001b[0;34m)\u001b[0m\u001b[0;34m\u001b[0m\u001b[0;34m\u001b[0m\u001b[0m\n\u001b[0m",
            "\u001b[0;32m<ipython-input-32-edbe7d8dec20>\u001b[0m in \u001b[0;36mbook_kadane\u001b[0;34m(arr)\u001b[0m\n\u001b[1;32m      3\u001b[0m   \u001b[0mmax_ending_here\u001b[0m \u001b[0;34m=\u001b[0m \u001b[0mmax_so_far\u001b[0m \u001b[0;34m=\u001b[0m \u001b[0;36m0\u001b[0m\u001b[0;34m\u001b[0m\u001b[0;34m\u001b[0m\u001b[0m\n\u001b[1;32m      4\u001b[0m   \u001b[0;32mfor\u001b[0m \u001b[0mx\u001b[0m \u001b[0;32min\u001b[0m \u001b[0marr\u001b[0m\u001b[0;34m:\u001b[0m\u001b[0;34m\u001b[0m\u001b[0;34m\u001b[0m\u001b[0m\n\u001b[0;32m----> 5\u001b[0;31m     \u001b[0mmax_ending_here\u001b[0m \u001b[0;34m=\u001b[0m \u001b[0mmax\u001b[0m\u001b[0;34m(\u001b[0m\u001b[0mx\u001b[0m\u001b[0;34m,\u001b[0m \u001b[0mmax_ending_here\u001b[0m \u001b[0;34m+\u001b[0m \u001b[0mx\u001b[0m\u001b[0;34m)\u001b[0m\u001b[0;34m\u001b[0m\u001b[0;34m\u001b[0m\u001b[0m\n\u001b[0m\u001b[1;32m      6\u001b[0m     \u001b[0mmax_so_far\u001b[0m \u001b[0;34m=\u001b[0m \u001b[0mmax\u001b[0m\u001b[0;34m(\u001b[0m\u001b[0mmax_so_far\u001b[0m\u001b[0;34m,\u001b[0m \u001b[0mmax_ending_here\u001b[0m\u001b[0;34m)\u001b[0m\u001b[0;34m\u001b[0m\u001b[0;34m\u001b[0m\u001b[0m\n\u001b[1;32m      7\u001b[0m   \u001b[0;32mreturn\u001b[0m \u001b[0mmax_so_far\u001b[0m\u001b[0;34m\u001b[0m\u001b[0;34m\u001b[0m\u001b[0m\n",
            "\u001b[0;31mTypeError\u001b[0m: 'int' object is not callable"
          ]
        }
      ]
    },
    {
      "cell_type": "markdown",
      "source": [
        ""
      ],
      "metadata": {
        "id": "98sKPEzYDYqw"
      }
    }
  ]
}